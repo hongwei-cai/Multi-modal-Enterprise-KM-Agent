{
 "cells": [
  {
   "cell_type": "code",
   "execution_count": 1,
   "id": "8092e306",
   "metadata": {},
   "outputs": [
    {
     "name": "stderr",
     "output_type": "stream",
     "text": [
      "/opt/homebrew/Caskroom/miniconda/base/envs/mkma/lib/python3.10/site-packages/tqdm/auto.py:21: TqdmWarning: IProgress not found. Please update jupyter and ipywidgets. See https://ipywidgets.readthedocs.io/en/stable/user_install.html\n",
      "  from .autonotebook import tqdm as notebook_tqdm\n",
      "/opt/homebrew/Caskroom/miniconda/base/envs/mkma/lib/python3.10/site-packages/transformers/utils/generic.py:441: FutureWarning: `torch.utils._pytree._register_pytree_node` is deprecated. Please use `torch.utils._pytree.register_pytree_node` instead.\n",
      "  _torch_pytree._register_pytree_node(\n"
     ]
    }
   ],
   "source": [
    "import text_chunker as tc"
   ]
  },
  {
   "cell_type": "code",
   "execution_count": 11,
   "id": "899dc0cb",
   "metadata": {},
   "outputs": [],
   "source": [
    "words = \"\"\"\n",
    "    Splits English text into word-based chunks. Preserves word boundaries for readability.\n",
    "\n",
    "    Args:\n",
    "        text: Input English text.\n",
    "        chunk_size: Maximum number of words per chunk (default: 200).\n",
    "        overlap: Number of overlapping words between chunks (default: 50).\n",
    "\n",
    "    Returns:\n",
    "        List of chunked text strings.\n",
    "\n",
    "    Raises:\n",
    "        ValueError: If chunk_size <= 0 or overlap is invalid.\n",
    "    \"\"\""
   ]
  },
  {
   "cell_type": "code",
   "execution_count": 12,
   "id": "1232e15a",
   "metadata": {},
   "outputs": [],
   "source": [
    "cetw = tc.chunk_text_by_tokens(words)"
   ]
  },
  {
   "cell_type": "code",
   "execution_count": 9,
   "id": "f8548ad2",
   "metadata": {},
   "outputs": [
    {
     "data": {
      "text/plain": [
       "['\\n         Splits   English   text   into   word - based   chunks .   Preserves   word   boundaries   for   readability . \\n \\n         Args : \\n                 text :   Input   English   text . \\n                 chunk _ size :   Maximum   number   of   words   per   chunk   ( default :   200 ) . \\n                 overlap :   Number   of   overlapping   words   between   chunks   ( default :   50 ) . \\n \\n         Returns : \\n                 List   of   chunked   text   strings . \\n \\n         Raises : \\n                 ValueError :   If   chunk _ size   < =   0   or   overlap   is   invalid . \\n        ']"
      ]
     },
     "execution_count": 9,
     "metadata": {},
     "output_type": "execute_result"
    }
   ],
   "source": [
    "cetw"
   ]
  },
  {
   "cell_type": "code",
   "execution_count": null,
   "id": "5842fbfb",
   "metadata": {},
   "outputs": [],
   "source": []
  },
  {
   "cell_type": "code",
   "execution_count": null,
   "id": "a9c01d58",
   "metadata": {},
   "outputs": [],
   "source": []
  },
  {
   "cell_type": "code",
   "execution_count": null,
   "id": "5fc285fa",
   "metadata": {},
   "outputs": [],
   "source": []
  }
 ],
 "metadata": {
  "kernelspec": {
   "display_name": "mkma",
   "language": "python",
   "name": "python3"
  },
  "language_info": {
   "codemirror_mode": {
    "name": "ipython",
    "version": 3
   },
   "file_extension": ".py",
   "mimetype": "text/x-python",
   "name": "python",
   "nbconvert_exporter": "python",
   "pygments_lexer": "ipython3",
   "version": "3.10.18"
  }
 },
 "nbformat": 4,
 "nbformat_minor": 5
}
