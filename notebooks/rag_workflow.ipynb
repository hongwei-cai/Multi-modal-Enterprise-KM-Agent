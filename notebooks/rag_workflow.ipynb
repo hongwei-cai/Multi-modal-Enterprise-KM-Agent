{
 "cells": [
  {
   "cell_type": "markdown",
   "id": "e4150be1",
   "metadata": {},
   "source": [
    "# RAG System Development Workflow\n",
    "\n",
    "This notebook guides you through the step-by-step development and optimization of the RAG (Retrieval-Augmented Generation) system for the Multi-modal Enterprise KM Agent, leveraging our modular architecture of **building blocks** (low-level utilities) and **streamlined components** (higher-level orchestrators).\n",
    "\n",
    "The workflow is divided into four phases:\n",
    "- **Phase 1**: Knowledge Base Construction (using `indexing_pipeline.py` streamlined component)\n",
    "- **Phase 2**: LoRA Fine-Tuning (using `lora_manager.py` and `lora_finetuner.py` streamlined components)\n",
    "- **Phase 3**: Benchmarking (using `experiment_manager.py` streamlined component)\n",
    "- **Phase 4**: Iterative Optimization\n",
    "\n",
    "Each phase demonstrates integration of building blocks (e.g., `text_chunker.py`, `embedding.py`) within streamlined components for robust, scalable workflows."
   ]
  },
  {
   "cell_type": "code",
   "execution_count": 1,
   "id": "98237ea1",
   "metadata": {},
   "outputs": [
    {
     "name": "stderr",
     "output_type": "stream",
     "text": [
      "/opt/homebrew/Caskroom/miniconda/base/envs/mmagent/lib/python3.10/site-packages/tqdm/auto.py:21: TqdmWarning: IProgress not found. Please update jupyter and ipywidgets. See https://ipywidgets.readthedocs.io/en/stable/user_install.html\n",
      "  from .autonotebook import tqdm as notebook_tqdm\n"
     ]
    },
    {
     "name": "stdout",
     "output_type": "stream",
     "text": [
      "Using MLflow tracking directory: /Users/VincentCai/Documents/GitHub/Multi-modal-Enterprise-KM-Agent/mlruns\n",
      "Project root: /Users/VincentCai/Documents/GitHub/Multi-modal-Enterprise-KM-Agent\n"
     ]
    }
   ],
   "source": [
    "# Import required libraries\n",
    "import os\n",
    "import sys\n",
    "import logging\n",
    "from dotenv import load_dotenv\n",
    "\n",
    "# Load environment variables from .env file BEFORE any other imports\n",
    "load_dotenv(dotenv_path='../.env')\n",
    "\n",
    "sys.path.append('../src')\n",
    "from pathlib import Path\n",
    "from datasets import load_dataset\n",
    "from src.rag.components import get_indexing_pipeline\n",
    "from tqdm import tqdm\n",
    "\n",
    "\n",
    "# Suppress INFO logs from libraries and components\n",
    "logging.getLogger().setLevel(logging.WARNING)\n",
    "\n",
    "# Set paths from environment variables with defaults\n",
    "# Use absolute path resolution to ensure we're always in the project root\n",
    "notebook_dir = Path().resolve()\n",
    "if notebook_dir.name == 'notebooks':\n",
    "    project_root = notebook_dir.parent\n",
    "else:\n",
    "    project_root = notebook_dir\n",
    "\n",
    "project_root = Path(os.getenv('PROJECT_ROOT', str(project_root))).resolve()\n",
    "raw_data_dir = Path(os.getenv('RAW_DATA_DIR', str(project_root / 'data' / 'raw')))\n",
    "processed_data_dir = Path(os.getenv('PROCESSED_DATA_DIR', str(project_root / 'data' / 'processed')))\n",
    "vector_db_path = Path(os.getenv('CHROMA_PERSIST_DIR', str(project_root / 'chroma_db')))\n",
    "\n",
    "# Dataset configuration\n",
    "dataset_name = \"wikitext\"  # Change this for different datasets\n",
    "data_subdir = raw_data_dir / dataset_name\n",
    "data_subdir.mkdir(parents=True, exist_ok=True)\n",
    "\n",
    "# Explicitly set MLflow tracking directory to root mlruns\n",
    "mlruns_path = Path(os.getenv('MLRUNS_DIR', str(project_root / 'mlruns'))).resolve()\n",
    "print(f\"Using MLflow tracking directory: {mlruns_path}\")\n",
    "print(f\"Project root: {project_root}\")"
   ]
  },
  {
   "cell_type": "markdown",
   "id": "12ed3128",
   "metadata": {},
   "source": [
    "## Phase 1: Knowledge Base Construction\n",
    "\n",
    "In this phase, we build the vector database from a Wikipedia subset using the `indexing_pipeline.py` streamlined component, which orchestrates:\n",
    "- **Building blocks**: `document_parser.py` (for TXT parsing), `text_chunker.py` (for chunking), `embedding.py` (for vector generation), `vector_database.py` (for storage).\n",
    "- Process: Download → Parse → Chunk → Embed → Store in ChromaDB.\n",
    "\n",
    "This demonstrates how streamlined components integrate building blocks into an end-to-end workflow."
   ]
  },
  {
   "cell_type": "code",
   "execution_count": 2,
   "id": "6de7ff59",
   "metadata": {},
   "outputs": [
    {
     "name": "stdout",
     "output_type": "stream",
     "text": [
      "Found 3227 existing passages in wikitext. Skipping download.\n"
     ]
    }
   ],
   "source": [
    "# Check if data already exists\n",
    "existing_files = list(data_subdir.glob('*.txt')) if data_subdir.exists() else []\n",
    "if existing_files:\n",
    "    documents = existing_files\n",
    "    print(f\"Found {len(documents)} existing passages in {dataset_name}. Skipping download.\")\n",
    "else:\n",
    "    try:\n",
    "        # Download Wikipedia subset (using WikiText as a Wikipedia-derived dataset)\n",
    "        print(f\"Downloading {dataset_name} subset...\")\n",
    "        dataset = load_dataset(\"wikitext\", \"wikitext-103-raw-v1\", split=\"train[:5000]\")  # First 5000 passages\n",
    "\n",
    "        # Save articles to text files in subfolder\n",
    "        documents = []\n",
    "        for i, article in tqdm(enumerate(dataset), desc=\"Saving articles\"):\n",
    "            text = article['text'].strip()\n",
    "            if text:  # Only save non-empty passages\n",
    "                file_path = data_subdir / f\"article_{i}.txt\"\n",
    "                with open(file_path, \"w\", encoding=\"utf-8\") as f:\n",
    "                    f.write(text)\n",
    "                documents.append(file_path)\n",
    "\n",
    "        print(f\"Downloaded and saved {len(documents)} non-empty passages to {dataset_name}.\")\n",
    "    except Exception as e:\n",
    "        print(f\"Failed to download or save dataset: {e}\")\n",
    "        documents = []"
   ]
  },
  {
   "cell_type": "code",
   "execution_count": 3,
   "id": "2dc110f2",
   "metadata": {},
   "outputs": [
    {
     "name": "stderr",
     "output_type": "stream",
     "text": [
      "2025/10/09 13:29:44 INFO mlflow.store.db.utils: Creating initial MLflow database tables...\n",
      "2025/10/09 13:29:44 INFO mlflow.store.db.utils: Updating database tables\n",
      "INFO  [alembic.runtime.migration] Context impl SQLiteImpl.\n",
      "INFO  [alembic.runtime.migration] Will assume non-transactional DDL.\n",
      "2025/10/09 13:29:44 INFO mlflow.store.db.utils: Updating database tables\n",
      "INFO  [alembic.runtime.migration] Context impl SQLiteImpl.\n",
      "INFO  [alembic.runtime.migration] Will assume non-transactional DDL.\n",
      "INFO  [alembic.runtime.migration] Context impl SQLiteImpl.\n",
      "INFO  [alembic.runtime.migration] Will assume non-transactional DDL.\n",
      "INFO  [alembic.runtime.migration] Context impl SQLiteImpl.\n",
      "INFO  [alembic.runtime.migration] Will assume non-transactional DDL.\n"
     ]
    }
   ],
   "source": [
    "# Check for already indexed documents\n",
    "indexing_pipeline = get_indexing_pipeline(db_path=str(vector_db_path))\n",
    "already_indexed = set()\n",
    "try:\n",
    "    # Query existing documents in the DB (assuming metadata has 'file_path')\n",
    "    existing_docs = indexing_pipeline.db.get(include=['metadatas'])\n",
    "    for metadata in existing_docs.get('metadatas', []):\n",
    "        if 'file_path' in metadata:\n",
    "            already_indexed.add(metadata['file_path'])\n",
    "except Exception as e:\n",
    "    print(f\"Could not check existing documents: {e}. Proceeding with indexing.\")"
   ]
  },
  {
   "cell_type": "code",
   "execution_count": 4,
   "id": "1e7e3cf2",
   "metadata": {},
   "outputs": [
    {
     "name": "stdout",
     "output_type": "stream",
     "text": [
      "All documents already indexed. Skipping indexing.\n"
     ]
    }
   ],
   "source": [
    "# Filter out already indexed documents\n",
    "documents_to_index = [doc for doc in documents if str(doc) not in already_indexed]\n",
    "\n",
    "if not documents_to_index:\n",
    "    print(\"All documents already indexed. Skipping indexing.\")\n",
    "else:\n",
    "    print(f\"Indexing {len(documents_to_index)} new documents...\")\n",
    "    try:\n",
    "        # Convert Path objects to strings and index all documents in batch\n",
    "        file_paths = [str(doc) for doc in documents_to_index]\n",
    "        indexing_pipeline.index_documents_batch(file_paths, \n",
    "                                                batch_size=64, \n",
    "                                                num_workers=4)\n",
    "        print(\"Knowledge base updated successfully.\")\n",
    "    except Exception as e:\n",
    "        print(f\"Failed to index documents: {e}\")"
   ]
  },
  {
   "cell_type": "markdown",
   "id": "673554b0",
   "metadata": {},
   "source": [
    "## Phase 1: Test Knowledge Base Retrieval\n",
    "\n",
    "After indexing, test the knowledge base using the `retriever.py` streamlined component (which uses `embedding.py` and `vector_database.py` building blocks) and the full `rag_pipeline.py` streamlined component for end-to-end Q&A."
   ]
  },
  {
   "cell_type": "code",
   "execution_count": 5,
   "id": "a8af0079",
   "metadata": {},
   "outputs": [
    {
     "name": "stdout",
     "output_type": "stream",
     "text": [
      "Query: What is artificial intelligence?\n",
      "Result 1: = forward intelligence team =...\n",
      "Result 2: = = information processing = =...\n",
      "Result 3: = = = planning system = = =...\n"
     ]
    }
   ],
   "source": [
    "# Test retrieval using retriever\n",
    "from src.rag.retriever import get_retriever\n",
    "\n",
    "retriever = get_retriever(db_path=str(vector_db_path))\n",
    "test_query = \"What is artificial intelligence?\"\n",
    "results = retriever.retrieve(test_query, top_k=3)\n",
    "print(f\"Query: {test_query}\")\n",
    "for i, result in enumerate(results):\n",
    "    print(f\"Result {i+1}: {result['document'][:200]}...\")\n"
   ]
  },
  {
   "cell_type": "code",
   "execution_count": 6,
   "id": "fe28fac8",
   "metadata": {},
   "outputs": [
    {
     "name": "stdout",
     "output_type": "stream",
     "text": [
      "\n",
      "RAG Answer: planning system\n",
      "Context docs used: 5\n",
      "Metadata: {'retrieval_latency_ms': 70.15609741210938, 'generation_latency_ms': 590.0380611419678, 'total_latency_ms': 660.2151393890381, 'retrieved_docs_count': 5}\n"
     ]
    }
   ],
   "source": [
    "# Test full RAG pipeline\n",
    "os.environ['QUANT_TYPE'] = \"dynamic\"\n",
    "\n",
    "from src.rag.components import get_rag_pipeline\n",
    "\n",
    "pipeline = get_rag_pipeline(db_path=str(vector_db_path))\n",
    "response = pipeline.answer_question(test_query)\n",
    "print(f\"\\nRAG Answer: {response['answer']}\")\n",
    "print(f\"Context docs used: {len(response['context_docs'])}\")\n",
    "print(f\"Metadata: {response['metadata']}\")"
   ]
  },
  {
   "cell_type": "markdown",
   "id": "21a463d5",
   "metadata": {},
   "source": [
    "## Phase 1: Prepare Training Data for LoRA\n",
    "\n",
    "Prepare the Dolly-15k-mini dataset for LoRA fine-tuning using the `lora_finetuner.py` streamlined component. This involves formatting data as instruction-response pairs, leveraging building blocks like dataset loading and preprocessing for scalable data preparation."
   ]
  },
  {
   "cell_type": "code",
   "execution_count": 7,
   "id": "6539191c",
   "metadata": {},
   "outputs": [
    {
     "name": "stderr",
     "output_type": "stream",
     "text": [
      "Saving the dataset (1/1 shards): 100%|██████████| 1000/1000 [00:00<00:00, 250361.37 examples/s]"
     ]
    },
    {
     "name": "stdout",
     "output_type": "stream",
     "text": [
      "Prepared and saved 1000 training examples to /Users/VincentCai/Documents/GitHub/Multi-modal-Enterprise-KM-Agent/data/processed/dolly_formatted.json.\n"
     ]
    },
    {
     "name": "stderr",
     "output_type": "stream",
     "text": [
      "\n"
     ]
    }
   ],
   "source": [
    "# Import libraries\n",
    "from datasets import load_dataset\n",
    "\n",
    "# Set paths\n",
    "project_root = Path(os.getenv('PROJECT_ROOT', '..')).resolve()\n",
    "\n",
    "# Set dataset path\n",
    "processed_data_dir = Path(os.getenv('PROCESSED_DATA_DIR', str(project_root / 'data' / 'processed')))\n",
    "processed_data_dir.mkdir(parents=True, exist_ok=True)\n",
    "dataset_path = processed_data_dir / 'dolly_formatted.json'\n",
    "\n",
    "# Load Dolly-15k-mini dataset\n",
    "dataset = load_dataset('databricks/databricks-dolly-15k', split='train[:1000]')  # Small subset for demo\n",
    "\n",
    "# Format as instruction-response pairs\n",
    "def format_instruction_response(example):\n",
    "    return {\n",
    "        'instruction': example['instruction'],\n",
    "        'response': example['response']\n",
    "    }\n",
    "\n",
    "formatted_dataset = dataset.map(format_instruction_response)\n",
    "\n",
    "# Save formatted dataset\n",
    "formatted_dataset.save_to_disk(str(dataset_path))\n",
    "print(f\"Prepared and saved {len(formatted_dataset)} training examples to {dataset_path}.\")"
   ]
  },
  {
   "cell_type": "markdown",
   "id": "a7c433d3",
   "metadata": {},
   "source": [
    "## Phase 2: Set Up LoRA Training Infrastructure\n",
    "\n",
    "Initialize the LoRA training setup using the `lora_manager.py` streamlined component (`LoRAConfigManager`), which integrates building blocks like model loading and quantization for efficient fine-tuning on M1 Pro."
   ]
  },
  {
   "cell_type": "code",
   "execution_count": 8,
   "id": "28d5f7c1",
   "metadata": {},
   "outputs": [
    {
     "name": "stdout",
     "output_type": "stream",
     "text": [
      "Inspecting model modules for LoRA targets...\n",
      "  transformer.h.0.attn: GPT2Attention\n",
      "  transformer.h.0.attn.c_attn: Conv1D\n",
      "  transformer.h.0.attn.c_proj: Conv1D\n",
      "  transformer.h.0.attn.attn_dropout: Dropout\n",
      "  transformer.h.0.attn.resid_dropout: Dropout\n",
      "  transformer.h.0.mlp.c_proj: Conv1D\n",
      "  transformer.h.1.attn: GPT2Attention\n",
      "  transformer.h.1.attn.c_attn: Conv1D\n",
      "  transformer.h.1.attn.c_proj: Conv1D\n",
      "  transformer.h.1.attn.attn_dropout: Dropout\n",
      "  transformer.h.1.attn.resid_dropout: Dropout\n",
      "  transformer.h.1.mlp.c_proj: Conv1D\n",
      "  transformer.h.2.attn: GPT2Attention\n",
      "  transformer.h.2.attn.c_attn: Conv1D\n",
      "  transformer.h.2.attn.c_proj: Conv1D\n",
      "  transformer.h.2.attn.attn_dropout: Dropout\n",
      "  transformer.h.2.attn.resid_dropout: Dropout\n",
      "  transformer.h.2.mlp.c_proj: Conv1D\n",
      "  transformer.h.3.attn: GPT2Attention\n",
      "  transformer.h.3.attn.c_attn: Conv1D\n",
      "  transformer.h.3.attn.c_proj: Conv1D\n",
      "  transformer.h.3.attn.attn_dropout: Dropout\n",
      "  transformer.h.3.attn.resid_dropout: Dropout\n",
      "  transformer.h.3.mlp.c_proj: Conv1D\n",
      "  transformer.h.4.attn: GPT2Attention\n",
      "  transformer.h.4.attn.c_attn: Conv1D\n",
      "  transformer.h.4.attn.c_proj: Conv1D\n",
      "  transformer.h.4.attn.attn_dropout: Dropout\n",
      "  transformer.h.4.attn.resid_dropout: Dropout\n",
      "  transformer.h.4.mlp.c_proj: Conv1D\n",
      "  transformer.h.5.attn: GPT2Attention\n",
      "  transformer.h.5.attn.c_attn: Conv1D\n",
      "  transformer.h.5.attn.c_proj: Conv1D\n",
      "  transformer.h.5.attn.attn_dropout: Dropout\n",
      "  transformer.h.5.attn.resid_dropout: Dropout\n",
      "  transformer.h.5.mlp.c_proj: Conv1D\n",
      "  transformer.h.6.attn: GPT2Attention\n",
      "  transformer.h.6.attn.c_attn: Conv1D\n",
      "  transformer.h.6.attn.c_proj: Conv1D\n",
      "  transformer.h.6.attn.attn_dropout: Dropout\n",
      "  transformer.h.6.attn.resid_dropout: Dropout\n",
      "  transformer.h.6.mlp.c_proj: Conv1D\n",
      "  transformer.h.7.attn: GPT2Attention\n",
      "  transformer.h.7.attn.c_attn: Conv1D\n",
      "  transformer.h.7.attn.c_proj: Conv1D\n",
      "  transformer.h.7.attn.attn_dropout: Dropout\n",
      "  transformer.h.7.attn.resid_dropout: Dropout\n",
      "  transformer.h.7.mlp.c_proj: Conv1D\n",
      "  transformer.h.8.attn: GPT2Attention\n",
      "  transformer.h.8.attn.c_attn: Conv1D\n",
      "  transformer.h.8.attn.c_proj: Conv1D\n",
      "  transformer.h.8.attn.attn_dropout: Dropout\n",
      "  transformer.h.8.attn.resid_dropout: Dropout\n",
      "  transformer.h.8.mlp.c_proj: Conv1D\n",
      "  transformer.h.9.attn: GPT2Attention\n",
      "  transformer.h.9.attn.c_attn: Conv1D\n",
      "  transformer.h.9.attn.c_proj: Conv1D\n",
      "  transformer.h.9.attn.attn_dropout: Dropout\n",
      "  transformer.h.9.attn.resid_dropout: Dropout\n",
      "  transformer.h.9.mlp.c_proj: Conv1D\n",
      "  transformer.h.10.attn: GPT2Attention\n",
      "  transformer.h.10.attn.c_attn: Conv1D\n",
      "  transformer.h.10.attn.c_proj: Conv1D\n",
      "  transformer.h.10.attn.attn_dropout: Dropout\n",
      "  transformer.h.10.attn.resid_dropout: Dropout\n",
      "  transformer.h.10.mlp.c_proj: Conv1D\n",
      "  transformer.h.11.attn: GPT2Attention\n",
      "  transformer.h.11.attn.c_attn: Conv1D\n",
      "  transformer.h.11.attn.c_proj: Conv1D\n",
      "  transformer.h.11.attn.attn_dropout: Dropout\n",
      "  transformer.h.11.attn.resid_dropout: Dropout\n",
      "  transformer.h.11.mlp.c_proj: Conv1D\n",
      "  transformer.h.12.attn: GPT2Attention\n",
      "  transformer.h.12.attn.c_attn: Conv1D\n",
      "  transformer.h.12.attn.c_proj: Conv1D\n",
      "  transformer.h.12.attn.attn_dropout: Dropout\n",
      "  transformer.h.12.attn.resid_dropout: Dropout\n",
      "  transformer.h.12.mlp.c_proj: Conv1D\n",
      "  transformer.h.13.attn: GPT2Attention\n",
      "  transformer.h.13.attn.c_attn: Conv1D\n",
      "  transformer.h.13.attn.c_proj: Conv1D\n",
      "  transformer.h.13.attn.attn_dropout: Dropout\n",
      "  transformer.h.13.attn.resid_dropout: Dropout\n",
      "  transformer.h.13.mlp.c_proj: Conv1D\n",
      "  transformer.h.14.attn: GPT2Attention\n",
      "  transformer.h.14.attn.c_attn: Conv1D\n",
      "  transformer.h.14.attn.c_proj: Conv1D\n",
      "  transformer.h.14.attn.attn_dropout: Dropout\n",
      "  transformer.h.14.attn.resid_dropout: Dropout\n",
      "  transformer.h.14.mlp.c_proj: Conv1D\n",
      "  transformer.h.15.attn: GPT2Attention\n",
      "  transformer.h.15.attn.c_attn: Conv1D\n",
      "  transformer.h.15.attn.c_proj: Conv1D\n",
      "  transformer.h.15.attn.attn_dropout: Dropout\n",
      "  transformer.h.15.attn.resid_dropout: Dropout\n",
      "  transformer.h.15.mlp.c_proj: Conv1D\n",
      "  transformer.h.16.attn: GPT2Attention\n",
      "  transformer.h.16.attn.c_attn: Conv1D\n",
      "  transformer.h.16.attn.c_proj: Conv1D\n",
      "  transformer.h.16.attn.attn_dropout: Dropout\n",
      "  transformer.h.16.attn.resid_dropout: Dropout\n",
      "  transformer.h.16.mlp.c_proj: Conv1D\n",
      "  transformer.h.17.attn: GPT2Attention\n",
      "  transformer.h.17.attn.c_attn: Conv1D\n",
      "  transformer.h.17.attn.c_proj: Conv1D\n",
      "  transformer.h.17.attn.attn_dropout: Dropout\n",
      "  transformer.h.17.attn.resid_dropout: Dropout\n",
      "  transformer.h.17.mlp.c_proj: Conv1D\n",
      "  transformer.h.18.attn: GPT2Attention\n",
      "  transformer.h.18.attn.c_attn: Conv1D\n",
      "  transformer.h.18.attn.c_proj: Conv1D\n",
      "  transformer.h.18.attn.attn_dropout: Dropout\n",
      "  transformer.h.18.attn.resid_dropout: Dropout\n",
      "  transformer.h.18.mlp.c_proj: Conv1D\n",
      "  transformer.h.19.attn: GPT2Attention\n",
      "  transformer.h.19.attn.c_attn: Conv1D\n",
      "  transformer.h.19.attn.c_proj: Conv1D\n",
      "  transformer.h.19.attn.attn_dropout: Dropout\n",
      "  transformer.h.19.attn.resid_dropout: Dropout\n",
      "  transformer.h.19.mlp.c_proj: Conv1D\n",
      "  transformer.h.20.attn: GPT2Attention\n",
      "  transformer.h.20.attn.c_attn: Conv1D\n",
      "  transformer.h.20.attn.c_proj: Conv1D\n",
      "  transformer.h.20.attn.attn_dropout: Dropout\n",
      "  transformer.h.20.attn.resid_dropout: Dropout\n",
      "  transformer.h.20.mlp.c_proj: Conv1D\n",
      "  transformer.h.21.attn: GPT2Attention\n",
      "  transformer.h.21.attn.c_attn: Conv1D\n",
      "  transformer.h.21.attn.c_proj: Conv1D\n",
      "  transformer.h.21.attn.attn_dropout: Dropout\n",
      "  transformer.h.21.attn.resid_dropout: Dropout\n",
      "  transformer.h.21.mlp.c_proj: Conv1D\n",
      "  transformer.h.22.attn: GPT2Attention\n",
      "  transformer.h.22.attn.c_attn: Conv1D\n",
      "  transformer.h.22.attn.c_proj: Conv1D\n",
      "  transformer.h.22.attn.attn_dropout: Dropout\n",
      "  transformer.h.22.attn.resid_dropout: Dropout\n",
      "  transformer.h.22.mlp.c_proj: Conv1D\n",
      "  transformer.h.23.attn: GPT2Attention\n",
      "  transformer.h.23.attn.c_attn: Conv1D\n",
      "  transformer.h.23.attn.c_proj: Conv1D\n",
      "  transformer.h.23.attn.attn_dropout: Dropout\n",
      "  transformer.h.23.attn.resid_dropout: Dropout\n",
      "  transformer.h.23.mlp.c_proj: Conv1D\n"
     ]
    },
    {
     "name": "stderr",
     "output_type": "stream",
     "text": [
      "/opt/homebrew/Caskroom/miniconda/base/envs/mmagent/lib/python3.10/site-packages/peft/tuners/lora/layer.py:2174: UserWarning: fan_in_fan_out is set to False but the target module is `Conv1D`. Setting fan_in_fan_out to True.\n",
      "  warnings.warn(\n"
     ]
    },
    {
     "name": "stdout",
     "output_type": "stream",
     "text": [
      "Loading dataset from /Users/VincentCai/Documents/GitHub/Multi-modal-Enterprise-KM-Agent/data/processed/dolly_formatted.json...\n",
      "Loaded 1000 training examples\n",
      "Dataset loaded successfully and ready for training.\n"
     ]
    }
   ],
   "source": [
    "from src.rag.managers.lora_manager import LoRAConfigManager\n",
    "import os\n",
    "from datasets import load_from_disk\n",
    "from peft import LoraConfig\n",
    "\n",
    "# Set paths from environment variables\n",
    "project_root = Path(os.getenv('PROJECT_ROOT', '..')).resolve()\n",
    "model_configs_path = Path(os.getenv('MODEL_CONFIGS_DIR', str(project_root / 'model_configs')))\n",
    "model_configs_path.mkdir(parents=True, exist_ok=True)\n",
    "\n",
    "# Initialize LoRA manager with GPT-2 compatible config\n",
    "lora_manager = LoRAConfigManager(\n",
    "    base_model_path='microsoft/DialoGPT-medium',\n",
    "    adapter_save_path=str(model_configs_path)\n",
    ")\n",
    "\n",
    "# Load base model\n",
    "model, tokenizer = lora_manager.load_base_model()\n",
    "\n",
    "# Inspect model structure to find correct target modules\n",
    "print(\"Inspecting model modules for LoRA targets...\")\n",
    "for name, module in model.named_modules():\n",
    "    if 'attn' in name.lower() or 'proj' in name.lower():\n",
    "        print(f\"  {name}: {type(module).__name__}\")\n",
    "\n",
    "# Apply LoRA with GPT-2 compatible target modules\n",
    "# For GPT-2/DialoGPT, target the attention and projection layers\n",
    "gpt2_lora_config = LoraConfig(\n",
    "    r=8,\n",
    "    lora_alpha=16,\n",
    "    target_modules=[\"c_attn\", \"c_proj\"],  # GPT-2 attention modules\n",
    "    lora_dropout=0.05,\n",
    "    bias=\"none\",\n",
    "    task_type=\"CAUSAL_LM\"\n",
    ")\n",
    "\n",
    "model = lora_manager.apply_lora(lora_config=gpt2_lora_config)\n",
    "\n",
    "# Load dataset\n",
    "processed_data_dir = Path(os.getenv('PROCESSED_DATA_DIR', str(project_root / 'data' / 'processed')))\n",
    "dataset_path = processed_data_dir / 'dolly_formatted.json'\n",
    "\n",
    "if dataset_path.exists():\n",
    "    print(f\"Loading dataset from {dataset_path}...\")\n",
    "    train_dataset = load_from_disk(str(dataset_path))\n",
    "    print(f\"Loaded {len(train_dataset)} training examples\")\n",
    "else:\n",
    "    print(f\"Dataset not found at {dataset_path}. Please run the dataset preparation cell first.\")\n",
    "    train_dataset = None\n",
    "\n",
    "# Make dataset available for next cell\n",
    "if train_dataset is not None:\n",
    "    print(\"Dataset loaded successfully and ready for training.\")\n",
    "else:\n",
    "    print(\"Please prepare the dataset first before proceeding with training.\")"
   ]
  },
  {
   "cell_type": "markdown",
   "id": "feafef67",
   "metadata": {},
   "source": [
    "## Phase 2: Execute LoRA Fine-Tuning\n",
    "\n",
    "Run LoRA fine-tuning using the `lora_finetuner.py` streamlined component, which handles training orchestration, dataset loading, and adapter management. This builds on the setup from the previous cell and actually performs the fine-tuning to create a trained adapter."
   ]
  },
  {
   "cell_type": "code",
   "execution_count": 9,
   "id": "0df6d510",
   "metadata": {},
   "outputs": [
    {
     "name": "stdout",
     "output_type": "stream",
     "text": [
      "LoRA adapter already exists at /Users/VincentCai/Documents/GitHub/Multi-modal-Enterprise-KM-Agent/model_configs/lora_adapters/microsoft/DialoGPT-medium/lora_adapter\n",
      "Skipping fine-tuning to avoid overwriting existing adapter.\n",
      "LoRA fine-tuning completed successfully!\n",
      "Fine-tuned adapter available at /Users/VincentCai/Documents/GitHub/Multi-modal-Enterprise-KM-Agent/model_configs/lora_adapters/microsoft/DialoGPT-medium/lora_adapter\n"
     ]
    }
   ],
   "source": [
    "# Execute LoRA Fine-Tuning\n",
    "from src.rag.components import get_lora_finetuner\n",
    "\n",
    "# Set up fine-tuner\n",
    "finetuner = get_lora_finetuner()\n",
    "\n",
    "# Check if adapter already exists\n",
    "adapter_path = model_configs_path / 'lora_adapters' / 'microsoft' / 'DialoGPT-medium' / 'lora_adapter'\n",
    "if adapter_path.exists():\n",
    "    print(f\"LoRA adapter already exists at {adapter_path}\")\n",
    "    print(\"Skipping fine-tuning to avoid overwriting existing adapter.\")\n",
    "    success = True\n",
    "else:\n",
    "    print(f\"Adapter not found at {adapter_path}\")\n",
    "    print(\"Starting LoRA fine-tuning...\")\n",
    "\n",
    "    # Run the complete fine-tuning pipeline\n",
    "    # Note: Optimal LoRA config is automatically selected based on model architecture\n",
    "    success = finetuner.finetune_pipeline(\n",
    "        model_name='microsoft/DialoGPT-medium',\n",
    "        dataset_path=str(processed_data_dir / 'dolly_formatted.json'),\n",
    "        adapter_name='lora_adapter',\n",
    "        training_config={\n",
    "            \"num_epochs\": 1,  # Quick training for demo\n",
    "            \"batch_size\": 2,\n",
    "            \"learning_rate\": 5e-5,\n",
    "            \"max_length\": 512\n",
    "        }\n",
    "    )\n",
    "\n",
    "if success:\n",
    "    print(\"LoRA fine-tuning completed successfully!\")\n",
    "    print(f\"Fine-tuned adapter available at {adapter_path}\")\n",
    "else:\n",
    "    print(\"LoRA fine-tuning failed. Check logs for details.\")"
   ]
  },
  {
   "cell_type": "markdown",
   "id": "149d9099",
   "metadata": {},
   "source": [
    "## Phase 3: Benchmark Fine-Tuning Effect\n",
    "\n",
    "Benchmark the fine-tuned model vs. baseline using the `experiment_manager.py` streamlined component, which integrates A/B testing, performance tracking, and MLflow logging. This leverages building blocks like `llm_client.py` and `retriever.py` for comprehensive evaluation of the actual trained LoRA adapter."
   ]
  },
  {
   "cell_type": "code",
   "execution_count": 10,
   "id": "6af2a5d5",
   "metadata": {},
   "outputs": [
    {
     "name": "stdout",
     "output_type": "stream",
     "text": [
      "No active MLflow run found.\n",
      "MLflow runs cleaned up. Ready to start fresh.\n"
     ]
    }
   ],
   "source": [
    "# Fix: End any active MLflow runs before starting new ones\n",
    "import mlflow\n",
    "\n",
    "# Check for active run and end it if exists\n",
    "if mlflow.active_run() is not None:\n",
    "    print(f\"Ending active MLflow run: {mlflow.active_run().info.run_id}\")\n",
    "    mlflow.end_run()\n",
    "    print(\"Active run ended.\")\n",
    "else:\n",
    "    print(\"No active MLflow run found.\")\n",
    "\n",
    "# Also clean up any lingering runs (force end all)\n",
    "try:\n",
    "    while mlflow.active_run() is not None:\n",
    "        mlflow.end_run()\n",
    "        print(\"Ended another active run.\")\n",
    "except:\n",
    "    pass\n",
    "\n",
    "print(\"MLflow runs cleaned up. Ready to start fresh.\")"
   ]
  },
  {
   "cell_type": "code",
   "execution_count": 11,
   "id": "e679e7c5",
   "metadata": {},
   "outputs": [
    {
     "name": "stdout",
     "output_type": "stream",
     "text": [
      "MLflow tracking URI set to: file:/Users/VincentCai/Documents/GitHub/Multi-modal-Enterprise-KM-Agent/mlruns\n",
      "Baseline model: microsoft/DialoGPT-medium\n",
      "Fine-tuned model path: /Users/VincentCai/Documents/GitHub/Multi-modal-Enterprise-KM-Agent/model_configs/lora_adapters/microsoft/DialoGPT-medium/lora_adapter\n",
      "Using streamlined BenchmarkingWorkflow component...\n",
      "🚀 Starting A/B Benchmarking...\n",
      "============================================================\n",
      "\n",
      "📝 Logging results to MLflow...\n",
      "✓ Benchmarking complete! Results logged to MLflow.\n",
      "\n",
      "🎯 BENCHMARK RESULTS COMPARISON\n",
      "============================================================\n",
      "Baseline Model (microsoft/DialoGPT-medium):\n",
      "  Average Latency: 0.20s\n",
      "  Average Response Length:               4.5 words\n",
      "  Success Rate: 100.0%\n",
      "\n",
      "Fine-tuned Model (microsoft/DialoGPT-medium + LoRA):\n",
      "  Average Latency: 0.18s\n",
      "  Average Response Length: 4.5 words\n",
      "  Success Rate: 100.0%\n",
      "\n",
      "📈 IMPROVEMENTS:\n",
      "  Latency: +12.7% (faster)\n",
      "  Response Length: +0.0% (shorter)\n",
      "\n",
      "💬 SAMPLE RESPONSES:\n",
      "----------------------------------------\n",
      "\n",
      "Query: What is Valkyria Chronicles?\n",
      "Baseline: What is Valkyria Chronicles?...\n",
      "Fine-tuned: What is Valkyria Chronicles?...\n",
      "\n",
      "Query: What are ammunition boxes?\n",
      "Baseline: What are ammunition boxes?...\n",
      "Fine-tuned: What are ammunition boxes?...\n",
      "\n",
      "🏁 Streamlined component workflow complete!\n",
      "============================================================\n",
      "Note: This same workflow can be used in scripts, APIs, or other notebooks!\n",
      "\n",
      "📝 Logging results to MLflow...\n",
      "✓ Benchmarking complete! Results logged to MLflow.\n",
      "\n",
      "🎯 BENCHMARK RESULTS COMPARISON\n",
      "============================================================\n",
      "Baseline Model (microsoft/DialoGPT-medium):\n",
      "  Average Latency: 0.20s\n",
      "  Average Response Length:               4.5 words\n",
      "  Success Rate: 100.0%\n",
      "\n",
      "Fine-tuned Model (microsoft/DialoGPT-medium + LoRA):\n",
      "  Average Latency: 0.18s\n",
      "  Average Response Length: 4.5 words\n",
      "  Success Rate: 100.0%\n",
      "\n",
      "📈 IMPROVEMENTS:\n",
      "  Latency: +12.7% (faster)\n",
      "  Response Length: +0.0% (shorter)\n",
      "\n",
      "💬 SAMPLE RESPONSES:\n",
      "----------------------------------------\n",
      "\n",
      "Query: What is Valkyria Chronicles?\n",
      "Baseline: What is Valkyria Chronicles?...\n",
      "Fine-tuned: What is Valkyria Chronicles?...\n",
      "\n",
      "Query: What are ammunition boxes?\n",
      "Baseline: What are ammunition boxes?...\n",
      "Fine-tuned: What are ammunition boxes?...\n",
      "\n",
      "🏁 Streamlined component workflow complete!\n",
      "============================================================\n",
      "Note: This same workflow can be used in scripts, APIs, or other notebooks!\n"
     ]
    }
   ],
   "source": [
    "# Import experiment manager and model manager\n",
    "import mlflow\n",
    "import os\n",
    "import time\n",
    "from pathlib import Path\n",
    "from src.rag.managers.model_manager import ModelManager\n",
    "from src.rag.experiment_tracker import MLflowExperimentTracker\n",
    "from src.rag.benchmarker import get_benchmarker\n",
    "from src.rag.components import get_benchmarking_workflow\n",
    "\n",
    "# Set paths from environment variables\n",
    "project_root = Path(os.getenv('PROJECT_ROOT', '..')).resolve()\n",
    "mlruns_path = Path(os.getenv('MLRUNS_DIR', str(project_root / 'mlruns')))\n",
    "mlruns_path.mkdir(parents=True, exist_ok=True)\n",
    "\n",
    "# Use file store backend instead of SQLite to avoid database permission issues\n",
    "mlflow.set_tracking_uri(\"file:\" + str(mlruns_path))\n",
    "print(f\"MLflow tracking URI set to: file:{mlruns_path}\")\n",
    "\n",
    "# Define models to compare\n",
    "baseline_model = 'microsoft/DialoGPT-medium'\n",
    "model_configs_path = Path(os.getenv('MODEL_CONFIGS_DIR', str(project_root / 'model_configs')))\n",
    "fine_tuned_model_path = str(model_configs_path / 'lora_adapters' / 'microsoft' / 'DialoGPT-medium' / 'lora_adapter')\n",
    "\n",
    "print(f\"Baseline model: {baseline_model}\")\n",
    "print(f\"Fine-tuned model path: {fine_tuned_model_path}\")\n",
    "\n",
    "# Initialize components\n",
    "model_manager = ModelManager()\n",
    "experiment_tracker = MLflowExperimentTracker()\n",
    "benchmarker = get_benchmarker()\n",
    "\n",
    "# Test queries for benchmarking (updated to match knowledge base content)\n",
    "test_queries = [\n",
    "    \"What is Valkyria Chronicles?\",\n",
    "    \"What are ammunition boxes?\", \n",
    "    \"What is a video game?\",\n",
    "    \"What is a war game?\"\n",
    "]\n",
    "print(\"Using streamlined BenchmarkingWorkflow component...\")\n",
    "benchmarking_workflow = get_benchmarking_workflow(\n",
    "    mlruns_dir=str(mlruns_path),\n",
    "    experiment_name=\"lora_finetuning_benchmark\"\n",
    ")\n",
    "\n",
    "# Run the complete benchmarking workflow\n",
    "workflow_results = benchmarking_workflow.run_comparison_benchmark(\n",
    "    baseline_model=baseline_model,\n",
    "    fine_tuned_model=baseline_model,\n",
    "    adapter_path=fine_tuned_model_path,\n",
    "    test_queries=test_queries,\n",
    "    run_name=f\"notebook_demo_{int(time.time())}\"\n",
    ")\n",
    "\n",
    "# Print results using the workflow's formatting\n",
    "benchmarking_workflow.print_results_summary(workflow_results)\n",
    "\n",
    "print(\"\\n🏁 Streamlined component workflow complete!\")\n",
    "print(\"=\" * 60)\n",
    "print(\"Note: This same workflow can be used in scripts, APIs, or other notebooks!\")"
   ]
  },
  {
   "cell_type": "code",
   "execution_count": null,
   "id": "1da34bb0",
   "metadata": {},
   "outputs": [],
   "source": [
    "# Optional: Aggressive memory cleanup (for M1 Pro/low-memory systems)\n",
    "import gc\n",
    "import torch\n",
    "\n",
    "# Clear any cached models/memory\n",
    "if hasattr(torch, 'mps') and torch.backends.mps.is_available():\n",
    "    torch.mps.empty_cache()\n",
    "elif torch.cuda.is_available():\n",
    "    torch.cuda.empty_cache()\n",
    "\n",
    "gc.collect()\n",
    "print(\"Memory cleanup completed\")"
   ]
  },
  {
   "cell_type": "markdown",
   "id": "1797ec0d",
   "metadata": {},
   "source": [
    "## Phase 4: Analyze Results and Plan Iterations\n",
    "\n",
    "Analyze benchmark results from `experiment_manager.py` to identify improvements. Use insights to refine components like `lora_manager.py` for re-training or `model_manager.py` for model selection."
   ]
  },
  {
   "cell_type": "code",
   "execution_count": 12,
   "id": "5ca3dddc",
   "metadata": {},
   "outputs": [
    {
     "name": "stdout",
     "output_type": "stream",
     "text": [
      "🔍 Analyzing memory consumption and parameters...\n"
     ]
    },
    {
     "name": "stderr",
     "output_type": "stream",
     "text": [
      "`torch_dtype` is deprecated! Use `dtype` instead!\n",
      "/opt/homebrew/Caskroom/miniconda/base/envs/mmagent/lib/python3.10/site-packages/peft/tuners/lora/layer.py:2174: UserWarning: fan_in_fan_out is set to False but the target module is `Conv1D`. Setting fan_in_fan_out to True.\n",
      "  warnings.warn(\n",
      "/opt/homebrew/Caskroom/miniconda/base/envs/mmagent/lib/python3.10/site-packages/peft/tuners/lora/layer.py:2174: UserWarning: fan_in_fan_out is set to False but the target module is `Conv1D`. Setting fan_in_fan_out to True.\n",
      "  warnings.warn(\n"
     ]
    },
    {
     "data": {
      "image/png": "[encoded data removed]",
      "text/plain": [
       "<Figure size 1200x500 with 2 Axes>"
      ]
     },
     "metadata": {},
     "output_type": "display_data"
    },
    {
     "name": "stdout",
     "output_type": "stream",
     "text": [
      "Benchmark Results Summary:\n",
      "microsoft/DialoGPT-medium:\n",
      "  Average Latency: 0.20s ± 0.00s\n",
      "  Success Rate: 100.0% ± 0.0%\n",
      "  Sample Count: 1\n",
      "microsoft/DialoGPT-medium + LoRA:\n",
      "  Average Latency: 0.18s ± 0.00s\n",
      "  Success Rate: 100.0% ± 0.0%\n",
      "  Sample Count: 1\n",
      "\n",
      "Improvements:\n",
      "  Latency: +12.7% (faster)\n",
      "  Success Rate: +0.0% (worse)\n",
      "\n",
      "💾 Memory & Parameters Analysis:\n",
      "microsoft/DialoGPT-medium Model:\n",
      "  Total Parameters: 354,823,168 (354.8M)\n",
      "  Trainable Parameters: 354,823,168\n",
      "  Model Size: 1353.5 MB\n",
      "  Peak Memory: 2575.0 MB\n",
      "  Avg Inference Time: 0.47s\n",
      "\n",
      "microsoft/DialoGPT-medium + LoRA Model:\n",
      "  Total Parameters: 356,985,856 (357.0M)\n",
      "  Trainable Parameters: 0\n",
      "  Model Size: 1361.8 MB\n",
      "  Peak Memory: 2463.3 MB\n",
      "  Avg Inference Time: 0.53s\n",
      "\n",
      "Efficiency Improvements:\n",
      "  Parameter Reduction: -0.6%\n",
      "  Memory Reduction: +4.3%\n",
      "  Latency Improvement: -11.9%\n",
      "  LoRA Adapter Size: 356.986M parameters\n",
      "Analysis complete using streamlined component!\n"
     ]
    }
   ],
   "source": [
    "# Analyze results using the streamlined BenchmarkAnalyzer component\n",
    "from src.rag.components import get_benchmark_analyzer\n",
    "\n",
    "# Initialize the analyzer\n",
    "analyzer = get_benchmark_analyzer()\n",
    "\n",
    "# Analyze the experiment with memory and parameter analysis\n",
    "try:\n",
    "    results = analyzer.analyze_experiment(\n",
    "        experiment_name=\"lora_finetuning_benchmark\",\n",
    "        baseline_model_name=f\"{baseline_model}\",\n",
    "        fine_tuned_model_name=f\"{baseline_model} + LoRA\",\n",
    "        baseline_model_path=baseline_model,  # Add baseline model path\n",
    "        adapter_path=str(model_configs_path / 'lora_adapters' / 'microsoft' / 'DialoGPT-medium' / 'lora_adapter'),  # Add adapter path\n",
    "        show_plots=True,\n",
    "        save_plots=False\n",
    "    )\n",
    "    print(\"Analysis complete using streamlined component!\")\n",
    "except Exception as e:\n",
    "    print(f\"Analysis failed: {e}\")\n",
    "    print(\"Falling back to inline analysis...\")"
   ]
  },
  {
   "cell_type": "markdown",
   "id": "9eb290dc",
   "metadata": {},
   "source": [
    "## Phase 4: Implement Iterative Optimizations\n",
    "\n",
    "Based on analysis, iterate by adjusting hyperparameters in `lora_finetuner.py`, switching models via `model_manager.py`, or enhancing data with `text_chunker.py`. Re-run phases as needed for continuous improvement."
   ]
  },
  {
   "cell_type": "code",
   "execution_count": null,
   "id": "7d3c3a82",
   "metadata": {},
   "outputs": [],
   "source": [
    "# Example optimizations\n",
    "# - Increase dataset size\n",
    "# - Tune hyperparameters\n",
    "# - Add more data preprocessing\n",
    "\n",
    "# Re-run training or benchmarking as needed\n",
    "print(\"Optimizations implemented. Ready for next iteration.\")"
   ]
  }
 ],
 "metadata": {
  "kernelspec": {
   "display_name": "mmagent",
   "language": "python",
   "name": "python3"
  },
  "language_info": {
   "codemirror_mode": {
    "name": "ipython",
    "version": 3
   },
   "file_extension": ".py",
   "mimetype": "text/x-python",
   "name": "python",
   "nbconvert_exporter": "python",
   "pygments_lexer": "ipython3",
   "version": "3.10.18"
  }
 },
 "nbformat": 4,
 "nbformat_minor": 5
}
